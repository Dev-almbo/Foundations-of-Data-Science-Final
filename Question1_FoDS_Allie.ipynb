{
 "cells": [
  {
   "cell_type": "markdown",
   "metadata": {},
   "source": [
    "# Question 1"
   ]
  },
  {
   "cell_type": "markdown",
   "metadata": {},
   "source": [
    "## Class defintion"
   ]
  },
  {
   "cell_type": "code",
   "execution_count": 178,
   "metadata": {},
   "outputs": [],
   "source": [
    "class Snumpy: \n",
    "    \n",
    "    \n",
    "    # done\n",
    "    def ones(self,int): \n",
    "        array = []\n",
    "        for i in range(0, int): \n",
    "            array.append(1)\n",
    "        return array\n",
    "    \n",
    "    \n",
    "    # done \n",
    "    def zeros(self,int):\n",
    "        array = []\n",
    "        for i in range(0, int): \n",
    "            array.append(0)\n",
    "        return array\n",
    "    \n",
    "    # done \n",
    "    def reshape(self,array,row,column):\n",
    "        if not isinstance(row, int) or not isinstance(column, int):\n",
    "            raise TypeError('The row or column must be an integer.')\n",
    "        if not isinstance(array, list):\n",
    "            raise TypeError('The array must be a list.')\n",
    "        else: \n",
    "            temp = [k for i in array for k in i]\n",
    "\n",
    "            new_array = []\n",
    "            i = 0 \n",
    "            row_list = []\n",
    "            #temp_array = [[None]*column]*row\n",
    "            for i in range(len(temp)+1): \n",
    "                if i < (len(temp)+1) and len(row_list) < column:\n",
    "                    row_list.append(temp[i])\n",
    "                    i = i + 1 \n",
    "                elif i < (len(temp)-1) and len(row_list) == column: \n",
    "                    new_array.append(row_list)\n",
    "                    row_list = []\n",
    "                    row_list.append(temp[i])\n",
    "                    i = i + 1 \n",
    "                else:\n",
    "                    new_array.append(row_list)        \n",
    "            return new_array            \n",
    "    \n",
    "    # done\n",
    "    def shape(self, array): \n",
    "        row_array = len(array)\n",
    "        col_array = len(array[0])\n",
    "        array_shape = (row_array, col_array)\n",
    "        return array_shape\n",
    "    \n",
    "    # done\n",
    "    def append(self, array1, array2): \n",
    "        if len(array1) ==1 and len(array2) != 1: \n",
    "            print('You cannot append a vector to a matrix')\n",
    "        elif len(array1) !=1 and len(array2) == 1:\n",
    "            print('You cannot append a vector to a matrix')\n",
    "        elif len(array1[0]) != len(array2[0]): \n",
    "            print('You cannot append vectors with different column numbers.')\n",
    "        else: \n",
    "            for i in range(len(array2)): \n",
    "                array1.append(array2[i])\n",
    "            return array1\n",
    "        \n",
    "        \n",
    "    # done\n",
    "    def get(self,array,row, column): \n",
    "        element = array[row][column]\n",
    "        return element\n",
    "    \n",
    "    \n",
    "    # done  \n",
    "    def add(self,array1, array2):\n",
    "        array1_shape = self.shape(array1)\n",
    "        array2_shape = self.shape(array2)\n",
    "        if array1_shape != array2_shape: \n",
    "            print('The Matrices do not have the same dimensions.')\n",
    "            return \n",
    "        else: \n",
    "            new_array = []\n",
    "            for i in range(len(array1)):\n",
    "                row_list = []\n",
    "                for k in range(len(array1[i])):\n",
    "                    temp_element = array1[i][k]+ array2[i][k]\n",
    "                    row_list.append(temp_element)\n",
    "                new_array.append(row_list)\n",
    "            return new_array\n",
    "        \n",
    "        \n",
    "    # done         \n",
    "    def substract(self,array1, array2): \n",
    "        array1_shape = self.shape(array1)\n",
    "        array2_shape = self.shape(array2)\n",
    "        if array1_shape != array2_shape: \n",
    "            print('The Matrices do not have the same dimensions.')\n",
    "            return\n",
    "        else: \n",
    "            new_array = []\n",
    "            for i in range(len(array1)):\n",
    "                row_list = []\n",
    "                for k in range(len(array1[i])):\n",
    "                    temp_element = array1[i][k]- array2[i][k]\n",
    "                    row_list.append(temp_element)\n",
    "                new_array.append(row_list)\n",
    "            return new_array\n",
    "        \n",
    "    # done\n",
    "    def dotproduct(self, array1, array2):\n",
    "        row_array2 = len(array2)\n",
    "        col_array1 = len(array1[0])\n",
    "        \n",
    "        if col_array1 != row_array2: \n",
    "            print('The matrices cannot be multiplied.')\n",
    "        else:\n",
    "            # transpose second matrix\n",
    "            array2_tp = [list(x) for x in zip(*array2)]\n",
    "            # iterate through first matrix \n",
    "            new_array = []\n",
    "            for i in range(len(array1)):\n",
    "                row_sum = []\n",
    "                for m in range(len(array2_tp)): \n",
    "                    temp_sum = 0\n",
    "                    res_list = []\n",
    "                    for n in range(len(array1[i])):\n",
    "                        res_list.append(array1[i][n]*array2_tp[m][n])\n",
    "                    for n in res_list: \n",
    "                        temp_sum = temp_sum + n\n",
    "                    row_sum.append(temp_sum)\n",
    "                new_array.append(row_sum)\n",
    "            return new_array\n"
   ]
  },
  {
   "cell_type": "markdown",
   "metadata": {},
   "source": [
    "## Operations"
   ]
  },
  {
   "cell_type": "markdown",
   "metadata": {},
   "source": [
    "#### these are just examples\n",
    "    \n"
   ]
  },
  {
   "cell_type": "code",
   "execution_count": 179,
   "metadata": {},
   "outputs": [],
   "source": [
    "snp = Snumpy() "
   ]
  },
  {
   "cell_type": "code",
   "execution_count": 180,
   "metadata": {},
   "outputs": [],
   "source": [
    "A = [[1, 2, 3], \n",
    "    [3, 4, 5],\n",
    "    [3, 5, 6]] \n",
    "B = [[1,2,4], \n",
    "    [3, 4, 4], \n",
    "    [3,5, 3]]\n"
   ]
  },
  {
   "cell_type": "code",
   "execution_count": 164,
   "metadata": {},
   "outputs": [
    {
     "name": "stdout",
     "output_type": "stream",
     "text": [
      "[1, 1, 1]\n"
     ]
    }
   ],
   "source": [
    "print(snp.ones(3))"
   ]
  },
  {
   "cell_type": "code",
   "execution_count": 165,
   "metadata": {},
   "outputs": [
    {
     "name": "stdout",
     "output_type": "stream",
     "text": [
      "[0, 0, 0]\n"
     ]
    }
   ],
   "source": [
    "print(snp.zeros(3))"
   ]
  },
  {
   "cell_type": "code",
   "execution_count": 181,
   "metadata": {},
   "outputs": [
    {
     "name": "stdout",
     "output_type": "stream",
     "text": [
      "(3, 3)\n"
     ]
    }
   ],
   "source": [
    "print(snp.shape(A))"
   ]
  },
  {
   "cell_type": "code",
   "execution_count": null,
   "metadata": {},
   "outputs": [],
   "source": []
  },
  {
   "cell_type": "code",
   "execution_count": 166,
   "metadata": {},
   "outputs": [
    {
     "name": "stdout",
     "output_type": "stream",
     "text": [
      "[[1, 2], [3, 3], [4, 5], [3, 5], [3, 5]]\n"
     ]
    }
   ],
   "source": [
    "print(snp.reshape(array= A ,row = 3, column = 2))"
   ]
  },
  {
   "cell_type": "code",
   "execution_count": 167,
   "metadata": {
    "scrolled": true
   },
   "outputs": [
    {
     "name": "stdout",
     "output_type": "stream",
     "text": [
      "[[1, 2, 3], [3, 4, 5], [3, 5, 6], [1, 2, 4], [3, 4, 4], [3, 5, 3]]\n"
     ]
    }
   ],
   "source": [
    "print(snp.append(A,B))"
   ]
  },
  {
   "cell_type": "code",
   "execution_count": 182,
   "metadata": {},
   "outputs": [
    {
     "name": "stdout",
     "output_type": "stream",
     "text": [
      "[[2, 4, 7], [6, 8, 9], [6, 10, 9]]\n"
     ]
    }
   ],
   "source": [
    "print(snp.add(A,B))"
   ]
  },
  {
   "cell_type": "code",
   "execution_count": 183,
   "metadata": {},
   "outputs": [
    {
     "name": "stdout",
     "output_type": "stream",
     "text": [
      "[[0, 0, -1], [0, 0, 1], [0, 0, 3]]\n"
     ]
    }
   ],
   "source": [
    "print(snp.substract(A,B))"
   ]
  },
  {
   "cell_type": "code",
   "execution_count": 173,
   "metadata": {},
   "outputs": [
    {
     "name": "stdout",
     "output_type": "stream",
     "text": [
      "4\n"
     ]
    }
   ],
   "source": [
    "print(snp.get(B, 1, 1))"
   ]
  },
  {
   "cell_type": "code",
   "execution_count": 174,
   "metadata": {},
   "outputs": [
    {
     "name": "stdout",
     "output_type": "stream",
     "text": [
      "[[16, 25, 21], [30, 47, 43], [36, 56, 50]]\n"
     ]
    }
   ],
   "source": [
    "print(snp.dotproduct(A,B))\n"
   ]
  },
  {
   "cell_type": "code",
   "execution_count": null,
   "metadata": {},
   "outputs": [],
   "source": []
  }
 ],
 "metadata": {
  "kernelspec": {
   "display_name": "Python 3",
   "language": "python",
   "name": "python3"
  },
  "language_info": {
   "codemirror_mode": {
    "name": "ipython",
    "version": 3
   },
   "file_extension": ".py",
   "mimetype": "text/x-python",
   "name": "python",
   "nbconvert_exporter": "python",
   "pygments_lexer": "ipython3",
   "version": "3.7.4"
  }
 },
 "nbformat": 4,
 "nbformat_minor": 2
}
