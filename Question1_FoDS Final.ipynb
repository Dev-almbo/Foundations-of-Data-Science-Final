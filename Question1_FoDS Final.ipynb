{
 "cells": [
  {
   "cell_type": "markdown",
   "metadata": {},
   "source": [
    "# Foundations of Data Science - Final: Question 1 "
   ]
  },
  {
   "cell_type": "markdown",
   "metadata": {},
   "source": [
    "### Groupmembers: Kitti Kresznai, Natalie Schober, Anastasiya Strohnova, Almut Bohnhoff"
   ]
  },
  {
   "cell_type": "code",
   "execution_count": 17,
   "metadata": {},
   "outputs": [],
   "source": [
    "class Snumpy:  \n",
    "    \n",
    "    # Question 1.1 \n",
    "    #snp.ones(Int) : the ones function takes an int parameter and returns an array (list) of length\n",
    "    #int parameter and the array contains only ones\n",
    "    \n",
    "    def ones(self, num):\n",
    "        array_of_ones = list([1] * num)\n",
    "        return array_of_ones\n",
    "    \n",
    "    # Question 1.2\n",
    "    #snp.zeros(Int): similar to the ones function, expect returns an array of zeros instead of ones\n",
    "    \n",
    "    def zeros(self, num):\n",
    "        array_of_zeros = list([0] * num)\n",
    "        return array_of_zeros\n",
    "    \n",
    "    # Question 1.3\n",
    "    #snp.reshape(array, (row, column)) : takes an array and converts it into the dimensions specified\n",
    "    #by the tuple (row, column). Hence this function converts from a vector to a matrix\n",
    "    \n",
    "    def reshape(self, vector, rctuple):\n",
    "        vector_size = len(vector)\n",
    "        row = rctuple[0]\n",
    "        column = rctuple[1]\n",
    "        size_per_row = vector_size//row\n",
    "        size_per_col = vector_size//column\n",
    "        \n",
    "        if row*column == vector_size:\n",
    "            for x in range(row): \n",
    "                if x == 0:              \n",
    "                    first_row = list(vector[x:size_per_row])\n",
    "                    matrix = list([first_row])\n",
    "                else:\n",
    "                    next_row = list(vector[x*size_per_row:(x+1)*size_per_row])\n",
    "                    matrix.append(next_row)\n",
    "            return matrix\n",
    "        else:\n",
    "            raise ValueError('The given dimensions do not match the array size!')\n",
    "\n",
    "    \n",
    "    # Question 1.4 \n",
    "    #snp.shape(array) : returns a tuple with the matrix/vector’s dimension e.g. (# rows, # columns)\n",
    "    \n",
    "    def shape(self, array): \n",
    "        row_array = len(array)\n",
    "        if isinstance(array[0], list):\n",
    "            col_array = len(array[0])\n",
    "            array_shape = (row_array, col_array)\n",
    "        else: \n",
    "            array_shape = (row_array,1)\n",
    "        \n",
    "        return array_shape\n",
    "    \n",
    "    # Question 1.5\n",
    "    #snp.append(array1, array2) : returns a new vector/matrix that is the combination of the two\n",
    "    #input vectors/matrices. Note that you can’t append a vector to a matrix and vice versa and\n",
    "    #therefore use suitable exception handling and throw/return user friendly error messages\n",
    "    \n",
    "    def append(self, array1, array2):\n",
    "        \n",
    "        input1 = list(array1)\n",
    "        input2 = list(array2)\n",
    "        no_of_rows_1 = len(array1)\n",
    "        no_of_rows_2 = len(array2)\n",
    "        \n",
    "        if isinstance(array1[0], list):\n",
    "            no_of_cols_1 = len(input1[0])\n",
    "            no_of_cols_2 = len(input2[0])\n",
    "            \n",
    "            #check if the two matrices have the same dimensions\n",
    "            if no_of_rows_1 != no_of_rows_2 or no_of_cols_1 != no_of_cols_2:\n",
    "                raise ArithmeticError('The input matrices do not have the same number of dimensions.')\n",
    "            else:\n",
    "                #the result of appending the two matrices\n",
    "                result = input1\n",
    "                for row in input2:\n",
    "                    result.append(row)\n",
    "                return result\n",
    "        #added error handling when trying to append a vector and a matrix\n",
    "        elif isinstance(array2[0], list):\n",
    "            raise ArithmeticError('It is not possible to append a matrix to a vector.')\n",
    "        else:\n",
    "            #the result of appending vectors\n",
    "            result = input1 + input2\n",
    "            return result\n",
    "    \n",
    "    # Question 1.6\n",
    "    #snp.get(array, (row, column)) : returns the value specified by the coordinate point (row, column) \n",
    "    #of the array provided (can be vector or matrix).\n",
    "    \n",
    "    def get(self, array, r, c):\n",
    "        #the shape function uses the vertical vector form (multiple rows, only one column),\n",
    "        #so the get function was corrected for consistency, as it worked the other way before (one row, multiple columns)\n",
    "        \n",
    "        if any(isinstance(el, list) for el in array):\n",
    "            row_range = len(array)\n",
    "            col_range = len(array[0])\n",
    "            \n",
    "            if r <= row_range and c <= col_range:  #list of lists / matrix \n",
    "                if r<0 or c<0:\n",
    "                    raise ArithmeticError(\"There are no negative columns/rows.\")\n",
    "                else:\n",
    "                    return array[r-1][c-1]\n",
    "            else:\n",
    "                raise ArithmeticError(\"This array does not hold this column/row combination.\")\n",
    "        else:  # only one list aka a vector\n",
    "            #CORRECTED:\n",
    "            #row_range=1\n",
    "            #col_range=len(array)\n",
    "            row_range=len(array)\n",
    "            col_range=1\n",
    "            #CORRECTED: if r>1\n",
    "            if c>1:\n",
    "                #CORRECTED: raise ArithmeticError(\"There is only one row in this array.\")\n",
    "                raise ArithmeticError(\"There is only one column in this array.\")\n",
    "            #CORRECTED: elif r <= row_range and c > col_range\n",
    "            elif r > row_range and c <= col_range:\n",
    "                #CORRECTED: raise ArithmeticError(\"This array does not have that many columns.\")\n",
    "                raise ArithmeticError(\"This array does not have that many rows.\")\n",
    "            elif r < 0 or c < 0:\n",
    "                raise ArithmeticError(\"There are no negative columns/rows.\")\n",
    "            else:\n",
    "                #CORRECTED: return array[c-1]  \n",
    "                return array[r-1]  \n",
    "    \n",
    "    \n",
    "    # Question 1.7\n",
    "    #snp.add(array1, array1) : addition on vectors/matrices\n",
    "    \n",
    "    def add(self, array1, array2):\n",
    "        \n",
    "        if isinstance(array1[0], list) & isinstance(array2[0], list):\n",
    "            r1 = len(array1)\n",
    "            c1 = len(array1[0])\n",
    "            r2 = len(array2)\n",
    "            c2 = len(array2[0])\n",
    "        \n",
    "            # Create a new matrix for the matrix sum\n",
    "            C = []\n",
    "            while len(C) < r1:\n",
    "                C.append([])\n",
    "                while len(C[-1]) < c2:\n",
    "                    C[-1].append(0.0)\n",
    "                \n",
    "            if r1 == r2 and c1 == c2: \n",
    " \n",
    "                # Perform element by element sum\n",
    "                for i in range(r1):\n",
    "                    for j in range(c2):\n",
    "                        C[i][j] = array1[i][j] + array2[i][j]\n",
    "                return C\n",
    "        \n",
    "            else:\n",
    "                 raise ArithmeticError('Matrices are not the same size.')\n",
    "        else:\n",
    "            c1=len(array1)\n",
    "            c2=len(array2)\n",
    "            vector=[]\n",
    "            if c1 == c2:\n",
    "                for (i,j) in zip(array1, array2):\n",
    "                    vector.append(i+j)\n",
    "                return vector\n",
    "            else:\n",
    "                raise ArithmeticError('Vectors are not the same size.')\n",
    "    \n",
    "    \n",
    "    # Question 1.8\n",
    "    #snp.subtract(array1, array1): subtraction on vectors/matrices\n",
    "    \n",
    "    def subtract(self, array1, array2):\n",
    "        \n",
    "        if isinstance(array1[0], list) & isinstance(array2[0], list):\n",
    "            r1 = len(array1)\n",
    "            c1 = len(array1[0])\n",
    "            r2 = len(array2)\n",
    "            c2 = len(array2[0])\n",
    "            # Create a new matrix for the substracted matrix\n",
    "            C = []\n",
    "            while len(C) < r1:\n",
    "                C.append([])\n",
    "                while len(C[-1]) < c2:\n",
    "                    C[-1].append(0.0)\n",
    "            \n",
    "            if r1 == r2 and c1 == c2:\n",
    "                # Perform element by element \n",
    "                for i in range(r1):\n",
    "                    for j in range(c2):\n",
    "                        C[i][j] = array1[i][j] - array2[i][j]\n",
    "                return C\n",
    "            else:\n",
    "                raise ArithmeticError('The two arrays need to be the same size.')\n",
    "        else:\n",
    "            c1=len(array1)\n",
    "            c2=len(array2)\n",
    "            vector=[]\n",
    "            if c1 == c2:\n",
    "                for (i,j) in zip(array1, array2):\n",
    "                    vector.append(i-j)\n",
    "                return vector\n",
    "            else:\n",
    "                raise ArithmeticError('Vectors are not the same size.')\n",
    "    \n",
    "    # Question 1.9\n",
    "    #snp.dotproduct(array1, array1) : computes the dot product between two arrays (which could\n",
    "    # be vector or/and matrix) and returns an appropriate value. Use appropriate exception handling\n",
    "    # to output user-friendly error messages in case the dot product cannot be performed between\n",
    "    # the given arrays.\n",
    "    \n",
    "    def dotproduct(self, array1, array2):\n",
    "        \n",
    "        # check if matrix or vector \n",
    "        if isinstance(array1[0], list) & isinstance(array2[0], list):\n",
    "            row_array2 = len(array2)\n",
    "            col_array1 = len(array1[0])\n",
    "\n",
    "            if col_array1 != row_array2: \n",
    "                raise ArithmeticError('The number of columns in the vector must equal the number of rows in the matrix.')\n",
    "            else:\n",
    "                # transpose second matrix\n",
    "                array2_tp = [list(x) for x in zip(*array2)]\n",
    "                # iterate through first matrix \n",
    "                new_array = []\n",
    "                for i in range(len(array1)):\n",
    "                    row_sum = []\n",
    "                    for m in range(len(array2_tp)): \n",
    "                        temp_sum = 0\n",
    "                        res_list = []\n",
    "                        for n in range(len(array1[i])):\n",
    "                            res_list.append(array1[i][n]*array2_tp[m][n])\n",
    "                        for n in res_list: \n",
    "                            temp_sum = temp_sum + n\n",
    "                        row_sum.append(temp_sum)\n",
    "                    new_array.append(row_sum)\n",
    "                return new_array\n",
    "        else: \n",
    "            dot_product = 0\n",
    "            for i in range(len(array1)):\n",
    "                #CORRECTED: dot_product = dot_product + input1[i] * input2[i]; variable names wasn't right\n",
    "                dot_product = dot_product + array1[i] * array2[i]\n",
    "            return dot_product \n",
    "    \n",
    "    # Question 1.10 \n",
    "    #solver for a system of linear equations using Gaussian elimination and \n",
    "    #row reduction rules for the functionality\n",
    "    \n",
    "    def linear_solver(self,matrixA,vectorB):\n",
    "     \n",
    "        if isinstance(matrixA[0], list):\n",
    "            n = len(matrixA) \n",
    "            columns = list(range(n))\n",
    "                # Gaussian elimination algorithm\n",
    "            if len(matrixA[0]) == len(vectorB):\n",
    "                 # go through matrix row by row \n",
    "                 # make diagonal just 1s & multiply vectorB with the value from each row\n",
    "                for d in range(n): \n",
    "                    if matrixA[d][d] != 0: \n",
    "                        val = 1/matrixA[d][d]\n",
    "                    else: \n",
    "                        val = 1 \n",
    "                    for col in range(n): \n",
    "                        matrixA[d][col]*= val\n",
    "                    vectorB[d] *= val\n",
    "\n",
    "                        # make the elements outside of the diagonal 0 by iterating through each row and column\n",
    "                    for row in columns[0:d] + columns[d+1:]:\n",
    "                        val = matrixA[row][d] \n",
    "                        for col in range(n):\n",
    "                            matrixA[row][col] = matrixA[row][col] - val * matrixA[d][col]\n",
    "                        vectorB[row] = vectorB[row] - val * vectorB[d]\n",
    "                x = vectorB\n",
    "                return (matrixA, x) \n",
    "            else:\n",
    "                raise ArithmeticError('The number of vector rows does not match the number of matrix columns.')\n",
    "\n",
    "        else: \n",
    "            raise ValueError('The A matrix is a vector, please use a matrix.')\n",
    "        \n",
    "    \n",
    "    ######COMMENT: REMOVE (Source: https://integratedmlai.com/system-of-equations-solution/)\n",
    "    ###### --> we might have to make our solution more unique\n",
    "    "
   ]
  },
  {
   "cell_type": "markdown",
   "metadata": {},
   "source": [
    "### Testing"
   ]
  },
  {
   "cell_type": "code",
   "execution_count": 18,
   "metadata": {},
   "outputs": [],
   "source": [
    "snp = Snumpy() \n",
    "X = [1,2,3,4,5,6]\n",
    "Y = [2,4,6,8,10,12]\n",
    "Z = [1, -3]\n",
    "C = [4,5,8]\n",
    "A = [[1, 2, 3], \n",
    "    [3, 4, 5],\n",
    "    [3, 5, 6]] \n",
    "B = [[1,2,4], \n",
    "    [3, 4, 4], \n",
    "    [3,5, 3]]"
   ]
  },
  {
   "cell_type": "code",
   "execution_count": 3,
   "metadata": {},
   "outputs": [
    {
     "name": "stdout",
     "output_type": "stream",
     "text": [
      "[1, 1, 1]\n",
      "[0, 0, 0]\n"
     ]
    }
   ],
   "source": [
    "print(snp.ones(3))\n",
    "print(snp.zeros(3))"
   ]
  },
  {
   "cell_type": "code",
   "execution_count": 15,
   "metadata": {},
   "outputs": [
    {
     "name": "stdout",
     "output_type": "stream",
     "text": [
      "(6, 1)\n",
      "[[1, 2], [3, 4], [5, 6]]\n"
     ]
    }
   ],
   "source": [
    "print(snp.shape(X))\n",
    "print(snp.reshape(X,(3,2)))"
   ]
  },
  {
   "cell_type": "code",
   "execution_count": 21,
   "metadata": {},
   "outputs": [
    {
     "name": "stdout",
     "output_type": "stream",
     "text": [
      "[1, 2, 3, 4, 5, 6, 4, 5, 8]\n"
     ]
    },
    {
     "ename": "ArithmeticError",
     "evalue": "It is not possible to append a matrix to a vector",
     "output_type": "error",
     "traceback": [
      "\u001b[1;31m---------------------------------------------------------------------------\u001b[0m",
      "\u001b[1;31mArithmeticError\u001b[0m                           Traceback (most recent call last)",
      "\u001b[1;32m<ipython-input-21-31456617eb58>\u001b[0m in \u001b[0;36m<module>\u001b[1;34m\u001b[0m\n\u001b[0;32m      1\u001b[0m \u001b[0mprint\u001b[0m\u001b[1;33m(\u001b[0m\u001b[0msnp\u001b[0m\u001b[1;33m.\u001b[0m\u001b[0mappend\u001b[0m\u001b[1;33m(\u001b[0m\u001b[0mX\u001b[0m\u001b[1;33m,\u001b[0m\u001b[0mC\u001b[0m\u001b[1;33m)\u001b[0m\u001b[1;33m)\u001b[0m\u001b[1;33m\u001b[0m\u001b[1;33m\u001b[0m\u001b[0m\n\u001b[1;32m----> 2\u001b[1;33m \u001b[0mprint\u001b[0m\u001b[1;33m(\u001b[0m\u001b[0msnp\u001b[0m\u001b[1;33m.\u001b[0m\u001b[0mappend\u001b[0m\u001b[1;33m(\u001b[0m\u001b[0mC\u001b[0m\u001b[1;33m,\u001b[0m\u001b[0mA\u001b[0m\u001b[1;33m)\u001b[0m\u001b[1;33m)\u001b[0m\u001b[1;33m\u001b[0m\u001b[1;33m\u001b[0m\u001b[0m\n\u001b[0m",
      "\u001b[1;32m<ipython-input-17-528c83b90820>\u001b[0m in \u001b[0;36mappend\u001b[1;34m(self, array1, array2)\u001b[0m\n\u001b[0;32m     80\u001b[0m         \u001b[1;31m#added error handling when trying to append a vector and a matrix\u001b[0m\u001b[1;33m\u001b[0m\u001b[1;33m\u001b[0m\u001b[1;33m\u001b[0m\u001b[0m\n\u001b[0;32m     81\u001b[0m         \u001b[1;32melif\u001b[0m \u001b[0misinstance\u001b[0m\u001b[1;33m(\u001b[0m\u001b[0marray2\u001b[0m\u001b[1;33m[\u001b[0m\u001b[1;36m0\u001b[0m\u001b[1;33m]\u001b[0m\u001b[1;33m,\u001b[0m \u001b[0mlist\u001b[0m\u001b[1;33m)\u001b[0m\u001b[1;33m:\u001b[0m\u001b[1;33m\u001b[0m\u001b[1;33m\u001b[0m\u001b[0m\n\u001b[1;32m---> 82\u001b[1;33m             \u001b[1;32mraise\u001b[0m \u001b[0mArithmeticError\u001b[0m\u001b[1;33m(\u001b[0m\u001b[1;34m'It is not possible to append a matrix to a vector'\u001b[0m\u001b[1;33m)\u001b[0m\u001b[1;33m\u001b[0m\u001b[1;33m\u001b[0m\u001b[0m\n\u001b[0m\u001b[0;32m     83\u001b[0m         \u001b[1;32melse\u001b[0m\u001b[1;33m:\u001b[0m\u001b[1;33m\u001b[0m\u001b[1;33m\u001b[0m\u001b[0m\n\u001b[0;32m     84\u001b[0m             \u001b[1;31m#the result of appending vectors\u001b[0m\u001b[1;33m\u001b[0m\u001b[1;33m\u001b[0m\u001b[1;33m\u001b[0m\u001b[0m\n",
      "\u001b[1;31mArithmeticError\u001b[0m: It is not possible to append a matrix to a vector"
     ]
    }
   ],
   "source": [
    "print(snp.append(X,C))\n",
    "print(snp.append(C,A))"
   ]
  },
  {
   "cell_type": "code",
   "execution_count": 24,
   "metadata": {},
   "outputs": [
    {
     "name": "stdout",
     "output_type": "stream",
     "text": [
      "[3, 6, 9, 12, 15, 18]\n"
     ]
    },
    {
     "ename": "ArithmeticError",
     "evalue": "Vectors are not the same size.",
     "output_type": "error",
     "traceback": [
      "\u001b[1;31m---------------------------------------------------------------------------\u001b[0m",
      "\u001b[1;31mArithmeticError\u001b[0m                           Traceback (most recent call last)",
      "\u001b[1;32m<ipython-input-24-383fb922eeeb>\u001b[0m in \u001b[0;36m<module>\u001b[1;34m\u001b[0m\n\u001b[0;32m      1\u001b[0m \u001b[0mprint\u001b[0m\u001b[1;33m(\u001b[0m\u001b[0msnp\u001b[0m\u001b[1;33m.\u001b[0m\u001b[0madd\u001b[0m\u001b[1;33m(\u001b[0m\u001b[0mX\u001b[0m\u001b[1;33m,\u001b[0m\u001b[0mY\u001b[0m\u001b[1;33m)\u001b[0m\u001b[1;33m)\u001b[0m\u001b[1;33m\u001b[0m\u001b[1;33m\u001b[0m\u001b[0m\n\u001b[1;32m----> 2\u001b[1;33m \u001b[0mprint\u001b[0m\u001b[1;33m(\u001b[0m\u001b[0msnp\u001b[0m\u001b[1;33m.\u001b[0m\u001b[0msubtract\u001b[0m\u001b[1;33m(\u001b[0m\u001b[0mX\u001b[0m\u001b[1;33m,\u001b[0m\u001b[0mZ\u001b[0m\u001b[1;33m)\u001b[0m\u001b[1;33m)\u001b[0m\u001b[1;33m\u001b[0m\u001b[1;33m\u001b[0m\u001b[0m\n\u001b[0m",
      "\u001b[1;32m<ipython-input-17-528c83b90820>\u001b[0m in \u001b[0;36msubtract\u001b[1;34m(self, array1, array2)\u001b[0m\n\u001b[0;32m    200\u001b[0m                 \u001b[1;32mreturn\u001b[0m \u001b[0mvector\u001b[0m\u001b[1;33m\u001b[0m\u001b[1;33m\u001b[0m\u001b[0m\n\u001b[0;32m    201\u001b[0m             \u001b[1;32melse\u001b[0m\u001b[1;33m:\u001b[0m\u001b[1;33m\u001b[0m\u001b[1;33m\u001b[0m\u001b[0m\n\u001b[1;32m--> 202\u001b[1;33m                 \u001b[1;32mraise\u001b[0m \u001b[0mArithmeticError\u001b[0m\u001b[1;33m(\u001b[0m\u001b[1;34m'Vectors are not the same size.'\u001b[0m\u001b[1;33m)\u001b[0m\u001b[1;33m\u001b[0m\u001b[1;33m\u001b[0m\u001b[0m\n\u001b[0m\u001b[0;32m    203\u001b[0m \u001b[1;33m\u001b[0m\u001b[0m\n\u001b[0;32m    204\u001b[0m     \u001b[1;31m# Question 1.9\u001b[0m\u001b[1;33m\u001b[0m\u001b[1;33m\u001b[0m\u001b[1;33m\u001b[0m\u001b[0m\n",
      "\u001b[1;31mArithmeticError\u001b[0m: Vectors are not the same size."
     ]
    }
   ],
   "source": [
    "print(snp.add(X,Y))\n",
    "print(snp.subtract(X,Z))"
   ]
  },
  {
   "cell_type": "code",
   "execution_count": 8,
   "metadata": {},
   "outputs": [
    {
     "name": "stdout",
     "output_type": "stream",
     "text": [
      "5\n"
     ]
    }
   ],
   "source": [
    "print(snp.get(X, 5,1))"
   ]
  },
  {
   "cell_type": "code",
   "execution_count": 24,
   "metadata": {},
   "outputs": [
    {
     "name": "stdout",
     "output_type": "stream",
     "text": [
      "182\n"
     ]
    }
   ],
   "source": [
    "print(snp.dotproduct(X,Y))"
   ]
  },
  {
   "cell_type": "code",
   "execution_count": 71,
   "metadata": {},
   "outputs": [
    {
     "name": "stdout",
     "output_type": "stream",
     "text": [
      "([[1.0, 0.0, 0.0], [0.0, 1.0, 0.0], [-0.0, -0.0, 1.0]], [-2.6, 3.1, 0.1])\n"
     ]
    }
   ],
   "source": [
    "print(snp.linear_solver(B,C))"
   ]
  },
  {
   "cell_type": "code",
   "execution_count": null,
   "metadata": {},
   "outputs": [],
   "source": []
  }
 ],
 "metadata": {
  "kernelspec": {
   "display_name": "Python 3",
   "language": "python",
   "name": "python3"
  },
  "language_info": {
   "codemirror_mode": {
    "name": "ipython",
    "version": 3
   },
   "file_extension": ".py",
   "mimetype": "text/x-python",
   "name": "python",
   "nbconvert_exporter": "python",
   "pygments_lexer": "ipython3",
   "version": "3.8.5"
  }
 },
 "nbformat": 4,
 "nbformat_minor": 2
}
