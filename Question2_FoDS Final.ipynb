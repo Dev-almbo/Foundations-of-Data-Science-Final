{
 "cells": [
  {
   "cell_type": "code",
   "execution_count": 111,
   "metadata": {},
   "outputs": [],
   "source": [
    "#import NumPy and Random libraries\n",
    "import numpy as np\n",
    "import random\n",
    "\n",
    "\n",
    "#Randomly generate a 4-bit binary message\n",
    "def message():\n",
    "    msg = []\n",
    "    #randomly select either a zero or one until there are 4 values appended to the msg list\n",
    "    for i in range(4):\n",
    "        letter = random.choice([0,1])\n",
    "        msg.append(letter)\n",
    "    return np.array(msg)\n",
    "\n",
    "#Check that a custom message is binary and 4-bits\n",
    "def custom_message_check(msg):\n",
    "    binary=[0,1]\n",
    "    for i in msg:\n",
    "        #confirm that each digit is either a one or zero, and that the entire message is no more than 4 digits \n",
    "        if i in binary and len(msg)==4:\n",
    "            continue\n",
    "        else:\n",
    "            raise ValueError(\"Please enter a 4-bit binary word.\")\n",
    "    return np.array(msg)\n",
    "\n",
    "\n",
    "\n",
    "#Hamming's Generator Matrix (7x4)\n",
    "G =  np.array([[1, 1, 0, 1],[1, 0, 1, 1],[1, 0, 0, 0],[0, 1, 1, 1], [0, 1, 0, 0], [0, 0, 1, 0], [0, 0, 0, 1]])\n",
    "\n",
    "#Hamming's Parity-check Matrix (3x7)\n",
    "H = np.array([[1, 0, 1, 0, 1, 0, 1],[0, 1, 1, 0, 0, 1, 1],[0, 0, 0, 1, 1, 1, 1]])\n",
    "\n",
    "#Hamming's Decoder Matrix (4x7)\n",
    "R = np.array([[0,0,1,0,0,0,0], [0,0,0,0,1,0,0], [0,0,0,0,0,1,0],[0,0,0,0,0,0,1]])\n",
    "\n",
    "\n",
    "\n",
    "#Encode the message using Generator Matrix\n",
    "#done by multiplying G and the message to get the dot products, this returns the 7-bit codeword\n",
    "def encode(msg):\n",
    "    enc = np.dot(G, msg)%2  #modulo of 2, to keep code binary\n",
    "    return enc\n",
    "\n",
    "#Check for errors in message after it has been transmitted (gone through the noisy channel) using Parity Check Matrix\n",
    "#done by multiplying H and the codeword to get the dot products, and returns a 3-bit syndrome vector\n",
    "def paritycheck(noisy):\n",
    "    par = np.dot(H, noisy)%2\n",
    "    return par\n",
    "\n",
    "#Decode the corrected (if necessary to correct) message back to original 4-bits using Decoder Matrix\n",
    "def decode(corrected):\n",
    "    dec = np.dot(R, corrected)%2\n",
    "    return dec\n",
    "\n",
    "\n",
    "\n",
    "#Simulate noisy channel by flipping number of bits requested when running function\n",
    "#bits = random.choice([0,1,2]) would be an alternative route to automate process, \n",
    "#but would not allow for deliberate testing and testing of errors outside of scope of Hamming code\n",
    "def noise(enc, bits):\n",
    "    \n",
    "    noisy = np.copy(enc)\n",
    "    #unpack the noisy array to get a list of all indexes (which will serve as the population for the sample)\n",
    "    index=[*range(0,len(noisy),1)]\n",
    "    \n",
    "    #confirm that no more than three bits of error are being introduced (which is unlikely realistically)\n",
    "    possible_bits=[0,1,2,3]\n",
    "    if bits in possible_bits:\n",
    "        #use random.sample to randomly select the number of indexes for bits requested to be flipped\n",
    "        e = random.sample(index, bits)\n",
    "    else:\n",
    "        raise ValueError(\"Please only request between 0 and 3 bits of error to be introducted.\")\n",
    "    \n",
    "    #iterate through sample and flip the bits for the indexes selected\n",
    "    for i in e:\n",
    "        if noisy[i] == 0:\n",
    "            noisy[i] = 1\n",
    "        else:\n",
    "            noisy[i] = 0\n",
    "\n",
    "    return noisy\n",
    "\n",
    "\n",
    "#generate error vector\n",
    "def find_error(par):\n",
    "    #transpose H so as to group values in each column together\n",
    "    #creates a \"library\" of 3-bit arrays to compare the syndrome vector to\n",
    "    H_trans= H.transpose()\n",
    "    error_vector=[]\n",
    "    #iterate through arrays in the matrix and compare them to the syndrome vector\n",
    "    #create a list by appending 0's where the arrays do not match, and a 1 where they do. \n",
    "    for i in H_trans:\n",
    "        if np.array_equal(i,par):\n",
    "            error_vector.append(1)\n",
    "        else:\n",
    "            error_vector.append(0)\n",
    "\n",
    "    error_vector=np.array(error_vector)\n",
    "    return error_vector\n",
    "\n",
    "\n",
    "#add error vector to noisy vector in order to make the correction \n",
    "#by \"flipping\" the one bit that had previously been flipped back to it's original state\n",
    "def correct(noisy, error_vector):\n",
    "    corrected=np.add(noisy,error_vector)%2\n",
    "    return corrected\n",
    "\n",
    "\n",
    "\n",
    "#All above functions combined for complete Hamming function with a custom 4-bit binary word to transmit\n",
    "def customHamming(msg,bits):\n",
    "    \n",
    "    msg = custom_message_check(msg)\n",
    "    print (\"4-bit message: \", msg)\n",
    "    enc = encode(msg)\n",
    "    print (\"Encoded message: \", enc)\n",
    "    noisy = noise(enc, bits)\n",
    "    print (\"Noisy message: \", noisy)\n",
    "    par = paritycheck(noisy)\n",
    "    print (\"Syndrome vector: \", par)\n",
    "    error_vec = find_error(par)\n",
    "    print (\"Error vector: \", error_vec)\n",
    "    corrected = correct(noisy, error_vec)\n",
    "    print (\"Correction attempt: \", corrected)\n",
    "    dec = decode(corrected)\n",
    "    print (\"Decoded message: \", dec)\n",
    "    \n",
    "    #confirm that the original & decoded message match, and that an error was detected via the parity check \n",
    "    if np.array_equal(msg,dec) and np.array_equal(par,[0,0,0])==False:\n",
    "        return \"One error has been detected and has been corrected.\"\n",
    "    \n",
    "    #confirm that the original & decoded message DO NOT match, but that an error was detected via the parity check \n",
    "    elif np.array_equal(msg,dec)==False and np.array_equal(par,[0,0,0])==False:\n",
    "        return \"An error has been detected, but could not be corrected. Please remember, Hamming code is only able to correct one bit errors, and identify one and two bit errors.\"\n",
    "    \n",
    "    #in case of no error detected via the parity check\n",
    "    else:\n",
    "        return \"No error detected, but please remember an error may still be present. Hamming code is only able to detect one and two bit errors.\"\n",
    "        \n",
    "\n",
    "#All above functions combined for complete Hamming function with a randomly generated 4-bit word to transmit\n",
    "def autoHamming(bits):\n",
    "    \n",
    "    msg = message()\n",
    "    print (\"4-bit message: \", msg)\n",
    "    enc = encode(msg)\n",
    "    print (\"Encoded message: \", enc)\n",
    "    noisy = noise(enc, bits)\n",
    "    print (\"Noisy message: \", noisy)\n",
    "    par = paritycheck(noisy)\n",
    "    print (\"Syndrome vector: \", par)\n",
    "    error_vec = find_error(par)\n",
    "    print (\"Error vector: \", error_vec)\n",
    "    corrected = correct(noisy, error_vec)\n",
    "    print (\"Correction attempt: \", corrected)\n",
    "    dec = decode(corrected)\n",
    "    print (\"Decoded message: \", dec)\n",
    "    \n",
    "    #confirm that the original & decoded message match, and that an error was detected via the parity check \n",
    "    if np.array_equal(msg,dec) and np.array_equal(par,[0,0,0])==False:\n",
    "        return \"One error has been detected and has been corrected.\"\n",
    "    \n",
    "    #confirm that the original & decoded message DO NOT match, but that an error was detected via the parity check    \n",
    "    elif np.array_equal(msg,dec)==False and np.array_equal(par,[0,0,0])==False:\n",
    "        return \"An error has been detected, but could not be corrected. Please remember, Hamming code is only able to correct one bit errors, and identify one and two bit errors.\"\n",
    "    \n",
    "    #in case of no error detected via the parity check\n",
    "    else:\n",
    "        return \"No error detected, but please remember an error may still be present. Hamming code is only able to detect one and two bit errors.\"\n",
    "        \n",
    "    \n",
    "#Testing of successful correction of 1 bit errors with custom message entered\n",
    "def MessageCorrection(msg, runs):\n",
    "    trial=0\n",
    "    count=0\n",
    "    bits=1 \n",
    "    \n",
    "    #run the trial the requested number of times\n",
    "    while trial<runs:\n",
    "        msg = custom_message_check(msg)\n",
    "        enc = encode(msg)\n",
    "        noisy = noise(enc, bits)\n",
    "        par = paritycheck(noisy)\n",
    "        error_vec = find_error(par)\n",
    "        corrected = correct(noisy, error_vec)\n",
    "        dec = decode(corrected)\n",
    "\n",
    "        #confirm that the original & decoded message match, and that an error was detected via the parity check \n",
    "        if np.array_equal(msg,dec) and np.array_equal(par,[0,0,0])==False:\n",
    "            count+=1\n",
    "            trial+=1\n",
    "        #in case the original & decoded message DO NOT match\n",
    "        else:\n",
    "            trial+=1\n",
    "            continue\n",
    "        \n",
    "    percentage_correct= (count/runs)*100\n",
    "    return print(\"Out of \", runs,\" runs, Hamming code identified and corrected a one bit error\", percentage_correct, \" percent of the time.\")\n",
    "                \n",
    "    \n",
    "#Testing of successful identification (should be 100% from 1 and 2 bit errors)\n",
    "def ErrorIdentify(bits, runs):\n",
    "    trial=0\n",
    "    count=0\n",
    "    \n",
    "    while trial<runs:\n",
    "        msg = message()\n",
    "        enc = encode(msg)\n",
    "        noisy = noise(enc, bits)\n",
    "        par = paritycheck(noisy)\n",
    "        \n",
    "        #confirm that an error was detected via the parity check \n",
    "        if np.array_equal(par,[0,0,0])==False:\n",
    "            count+=1\n",
    "            trial+=1\n",
    "        #in case an error was not detected via the parity check\n",
    "        else:\n",
    "            trial+=1\n",
    "            continue\n",
    "            \n",
    "    percentage_correct= (count/runs)*100\n",
    "    return print(\"Out of \", runs,\" runs, Hamming code identified the presence of an error \", percentage_correct, \" percent of the time.\")\n",
    "            \n"
   ]
  },
  {
   "cell_type": "markdown",
   "metadata": {},
   "source": [
    "### Test #1: Custom Message Testing - enter a 4-bit binary message (as a list) and how many errors you would like introduced through the \"noisy channel\"."
   ]
  },
  {
   "cell_type": "code",
   "execution_count": 112,
   "metadata": {},
   "outputs": [
    {
     "name": "stdout",
     "output_type": "stream",
     "text": [
      "4-bit message:  [1 0 1 0]\n",
      "Encoded message:  [1 0 1 1 0 1 0]\n",
      "Noisy message:  [1 0 0 1 0 1 0]\n",
      "Syndrome vector:  [1 1 0]\n",
      "Error vector:  [0 0 1 0 0 0 0]\n",
      "Correction attempt:  [1 0 1 1 0 1 0]\n",
      "Decoded message:  [1 0 1 0]\n"
     ]
    },
    {
     "data": {
      "text/plain": [
       "'One error has been detected and has been corrected.'"
      ]
     },
     "execution_count": 112,
     "metadata": {},
     "output_type": "execute_result"
    }
   ],
   "source": [
    "customHamming([1,0,1,0],1)"
   ]
  },
  {
   "cell_type": "code",
   "execution_count": 113,
   "metadata": {},
   "outputs": [
    {
     "ename": "ValueError",
     "evalue": "Please enter a 4-bit binary word.",
     "output_type": "error",
     "traceback": [
      "\u001b[0;31m---------------------------------------------------------------------------\u001b[0m",
      "\u001b[0;31mValueError\u001b[0m                                Traceback (most recent call last)",
      "\u001b[0;32m<ipython-input-113-bdf5efa531f5>\u001b[0m in \u001b[0;36m<module>\u001b[0;34m\u001b[0m\n\u001b[0;32m----> 1\u001b[0;31m \u001b[0mcustomHamming\u001b[0m\u001b[0;34m(\u001b[0m\u001b[0;34m[\u001b[0m\u001b[0;36m1\u001b[0m\u001b[0;34m,\u001b[0m\u001b[0;36m0\u001b[0m\u001b[0;34m,\u001b[0m\u001b[0;36m1\u001b[0m\u001b[0;34m,\u001b[0m\u001b[0;36m10\u001b[0m\u001b[0;34m]\u001b[0m\u001b[0;34m,\u001b[0m\u001b[0;36m1\u001b[0m\u001b[0;34m)\u001b[0m\u001b[0;34m\u001b[0m\u001b[0;34m\u001b[0m\u001b[0m\n\u001b[0m",
      "\u001b[0;32m<ipython-input-111-56c66b31afc5>\u001b[0m in \u001b[0;36mcustomHamming\u001b[0;34m(msg, bits)\u001b[0m\n\u001b[1;32m    112\u001b[0m \u001b[0;32mdef\u001b[0m \u001b[0mcustomHamming\u001b[0m\u001b[0;34m(\u001b[0m\u001b[0mmsg\u001b[0m\u001b[0;34m,\u001b[0m\u001b[0mbits\u001b[0m\u001b[0;34m)\u001b[0m\u001b[0;34m:\u001b[0m\u001b[0;34m\u001b[0m\u001b[0;34m\u001b[0m\u001b[0m\n\u001b[1;32m    113\u001b[0m \u001b[0;34m\u001b[0m\u001b[0m\n\u001b[0;32m--> 114\u001b[0;31m     \u001b[0mmsg\u001b[0m \u001b[0;34m=\u001b[0m \u001b[0mcustom_message_check\u001b[0m\u001b[0;34m(\u001b[0m\u001b[0mmsg\u001b[0m\u001b[0;34m)\u001b[0m\u001b[0;34m\u001b[0m\u001b[0;34m\u001b[0m\u001b[0m\n\u001b[0m\u001b[1;32m    115\u001b[0m     \u001b[0mprint\u001b[0m \u001b[0;34m(\u001b[0m\u001b[0;34m\"4-bit message: \"\u001b[0m\u001b[0;34m,\u001b[0m \u001b[0mmsg\u001b[0m\u001b[0;34m)\u001b[0m\u001b[0;34m\u001b[0m\u001b[0;34m\u001b[0m\u001b[0m\n\u001b[1;32m    116\u001b[0m     \u001b[0menc\u001b[0m \u001b[0;34m=\u001b[0m \u001b[0mencode\u001b[0m\u001b[0;34m(\u001b[0m\u001b[0mmsg\u001b[0m\u001b[0;34m)\u001b[0m\u001b[0;34m\u001b[0m\u001b[0;34m\u001b[0m\u001b[0m\n",
      "\u001b[0;32m<ipython-input-111-56c66b31afc5>\u001b[0m in \u001b[0;36mcustom_message_check\u001b[0;34m(msg)\u001b[0m\n\u001b[1;32m     21\u001b[0m             \u001b[0;32mcontinue\u001b[0m\u001b[0;34m\u001b[0m\u001b[0;34m\u001b[0m\u001b[0m\n\u001b[1;32m     22\u001b[0m         \u001b[0;32melse\u001b[0m\u001b[0;34m:\u001b[0m\u001b[0;34m\u001b[0m\u001b[0;34m\u001b[0m\u001b[0m\n\u001b[0;32m---> 23\u001b[0;31m             \u001b[0;32mraise\u001b[0m \u001b[0mValueError\u001b[0m\u001b[0;34m(\u001b[0m\u001b[0;34m\"Please enter a 4-bit binary word.\"\u001b[0m\u001b[0;34m)\u001b[0m\u001b[0;34m\u001b[0m\u001b[0;34m\u001b[0m\u001b[0m\n\u001b[0m\u001b[1;32m     24\u001b[0m     \u001b[0;32mreturn\u001b[0m \u001b[0mnp\u001b[0m\u001b[0;34m.\u001b[0m\u001b[0marray\u001b[0m\u001b[0;34m(\u001b[0m\u001b[0mmsg\u001b[0m\u001b[0;34m)\u001b[0m\u001b[0;34m\u001b[0m\u001b[0;34m\u001b[0m\u001b[0m\n\u001b[1;32m     25\u001b[0m \u001b[0;34m\u001b[0m\u001b[0m\n",
      "\u001b[0;31mValueError\u001b[0m: Please enter a 4-bit binary word."
     ]
    }
   ],
   "source": [
    "customHamming([1,0,1,10],1)"
   ]
  },
  {
   "cell_type": "markdown",
   "metadata": {},
   "source": [
    "### Test 2: Custom message one-bit error correcting capability - enter a 4-bit binary message (as a list) and how many tests to perform."
   ]
  },
  {
   "cell_type": "code",
   "execution_count": 114,
   "metadata": {},
   "outputs": [
    {
     "name": "stdout",
     "output_type": "stream",
     "text": [
      "Out of  10000  runs, Hamming code identified and corrected a one bit error 100.0  percent of the time.\n"
     ]
    }
   ],
   "source": [
    "MessageCorrection([1,0,1,0],10000)"
   ]
  },
  {
   "cell_type": "markdown",
   "metadata": {},
   "source": [
    "### Test #3: Random message generated - Test by changing the input number to how many errors you want introduced through the \"noisy channel\". "
   ]
  },
  {
   "cell_type": "code",
   "execution_count": 115,
   "metadata": {},
   "outputs": [
    {
     "name": "stdout",
     "output_type": "stream",
     "text": [
      "4-bit message:  [1 1 1 1]\n",
      "Encoded message:  [1 1 1 1 1 1 1]\n",
      "Noisy message:  [1 1 1 1 1 1 1]\n",
      "Syndrome vector:  [0 0 0]\n",
      "Error vector:  [0 0 0 0 0 0 0]\n",
      "Correction attempt:  [1 1 1 1 1 1 1]\n",
      "Decoded message:  [1 1 1 1]\n"
     ]
    },
    {
     "data": {
      "text/plain": [
       "'No error detected, but please remember an error may still be present. Hamming code is only able to detect one and two bit errors.'"
      ]
     },
     "execution_count": 115,
     "metadata": {},
     "output_type": "execute_result"
    }
   ],
   "source": [
    "Hamming(0)"
   ]
  },
  {
   "cell_type": "code",
   "execution_count": 116,
   "metadata": {},
   "outputs": [
    {
     "name": "stdout",
     "output_type": "stream",
     "text": [
      "4-bit message:  [0 0 0 1]\n",
      "Encoded message:  [1 1 0 1 0 0 1]\n",
      "Noisy message:  [0 1 0 1 0 0 1]\n",
      "Syndrome vector:  [1 0 0]\n",
      "Error vector:  [1 0 0 0 0 0 0]\n",
      "Correction attempt:  [1 1 0 1 0 0 1]\n",
      "Decoded message:  [0 0 0 1]\n"
     ]
    },
    {
     "data": {
      "text/plain": [
       "'One error has been detented and has been corrected.'"
      ]
     },
     "execution_count": 116,
     "metadata": {},
     "output_type": "execute_result"
    }
   ],
   "source": [
    "Hamming(1)"
   ]
  },
  {
   "cell_type": "code",
   "execution_count": 117,
   "metadata": {},
   "outputs": [
    {
     "name": "stdout",
     "output_type": "stream",
     "text": [
      "4-bit message:  [0 1 1 1]\n",
      "Encoded message:  [0 0 0 1 1 1 1]\n",
      "Noisy message:  [0 1 0 1 1 0 1]\n",
      "Syndrome vector:  [0 0 1]\n",
      "Error vector:  [0 0 0 1 0 0 0]\n",
      "Correction attempt:  [0 1 0 0 1 0 1]\n",
      "Decoded message:  [0 1 0 1]\n"
     ]
    },
    {
     "data": {
      "text/plain": [
       "'An error has been detected, but could not be corrected. Please remember, Hamming code is only able to correct one bit errors, and identify one and two bit errors.'"
      ]
     },
     "execution_count": 117,
     "metadata": {},
     "output_type": "execute_result"
    }
   ],
   "source": [
    "Hamming(2)"
   ]
  },
  {
   "cell_type": "code",
   "execution_count": 118,
   "metadata": {},
   "outputs": [
    {
     "name": "stdout",
     "output_type": "stream",
     "text": [
      "4-bit message:  [1 0 1 1]\n",
      "Encoded message:  [0 1 1 0 0 1 1]\n",
      "Noisy message:  [1 1 1 0 1 1 0]\n",
      "Syndrome vector:  [1 1 0]\n",
      "Error vector:  [0 0 1 0 0 0 0]\n",
      "Correction attempt:  [1 1 0 0 1 1 0]\n",
      "Decoded message:  [0 1 1 0]\n"
     ]
    },
    {
     "data": {
      "text/plain": [
       "'An error has been detected, but could not be corrected. Please remember, Hamming code is only able to correct one bit errors, and identify one and two bit errors.'"
      ]
     },
     "execution_count": 118,
     "metadata": {},
     "output_type": "execute_result"
    }
   ],
   "source": [
    "Hamming(3)"
   ]
  },
  {
   "cell_type": "markdown",
   "metadata": {},
   "source": [
    "### Test #4: Test by entering how many errors you would like to introduce (how many bits to flip) and how many trials you would like to run. Hamming code should identify 100% of 1 and 2 bit errors. "
   ]
  },
  {
   "cell_type": "code",
   "execution_count": 119,
   "metadata": {},
   "outputs": [
    {
     "name": "stdout",
     "output_type": "stream",
     "text": [
      "Out of  10000  runs, Hamming code identified the presence of an error  0.0  percent of the time.\n"
     ]
    }
   ],
   "source": [
    "ErrorIdentify(0,10000)"
   ]
  },
  {
   "cell_type": "code",
   "execution_count": 120,
   "metadata": {},
   "outputs": [
    {
     "name": "stdout",
     "output_type": "stream",
     "text": [
      "Out of  10000  runs, Hamming code identified the presence of an error  100.0  percent of the time.\n"
     ]
    }
   ],
   "source": [
    "ErrorIdentify(1,10000)"
   ]
  },
  {
   "cell_type": "code",
   "execution_count": 121,
   "metadata": {},
   "outputs": [
    {
     "name": "stdout",
     "output_type": "stream",
     "text": [
      "Out of  10000  runs, Hamming code identified the presence of an error  100.0  percent of the time.\n"
     ]
    }
   ],
   "source": [
    "ErrorIdentify(2,10000)"
   ]
  },
  {
   "cell_type": "code",
   "execution_count": 122,
   "metadata": {},
   "outputs": [
    {
     "name": "stdout",
     "output_type": "stream",
     "text": [
      "Out of  10000  runs, Hamming code identified the presence of an error  80.15  percent of the time.\n"
     ]
    }
   ],
   "source": [
    "ErrorIdentify(3,10000)"
   ]
  }
 ],
 "metadata": {
  "kernelspec": {
   "display_name": "Python 3",
   "language": "python",
   "name": "python3"
  },
  "language_info": {
   "codemirror_mode": {
    "name": "ipython",
    "version": 3
   },
   "file_extension": ".py",
   "mimetype": "text/x-python",
   "name": "python",
   "nbconvert_exporter": "python",
   "pygments_lexer": "ipython3",
   "version": "3.8.3"
  }
 },
 "nbformat": 4,
 "nbformat_minor": 4
}
