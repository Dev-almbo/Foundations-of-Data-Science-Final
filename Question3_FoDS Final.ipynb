{
 "cells": [
  {
   "cell_type": "markdown",
   "metadata": {},
   "source": [
    "# Foundations of Data Science Final - Question 3"
   ]
  },
  {
   "cell_type": "markdown",
   "metadata": {},
   "source": [
    "### Groupmembers:  Almut Bohnhoff, Anastasiya Strohnova, Kitti Kresznai, Natalie Schober"
   ]
  },
  {
   "cell_type": "code",
   "execution_count": 12,
   "metadata": {},
   "outputs": [
    {
     "name": "stdout",
     "output_type": "stream",
     "text": [
      "Result for dot product: dict_keys(['file.txt', 'file2.txt', 'file3.txt'])\n",
      "Result for euclidean distance: dict_keys(['file.txt', 'file2.txt', 'file3.txt'])\n"
     ]
    }
   ],
   "source": [
    "import numpy as np\n",
    "import os\n",
    "\n",
    "\n",
    "# building a word dictionary from the input list of documents\n",
    "def compute_dict(path):\n",
    "    \n",
    "    frequency = {}\n",
    "    separate_text_documents = {}\n",
    "    \n",
    "    all_files = os.listdir(path)\n",
    "    for file in all_files:\n",
    "       \n",
    "       # error handling: check if the input files are text files\n",
    "       if not file.endswith('.txt'):\n",
    "           raise ValueError('The files found in the specified folder are not txt files.')\n",
    "       else:\n",
    "           text = []\n",
    "           # open the file and then call .read() to get the text\n",
    "           with open(os.path.join(path, file)) as f:\n",
    "              for line in f:\n",
    "           # removing their punctuation\n",
    "                  line = line.lower()\n",
    "                  unwanted_punc = ['.', ',','!','?', '(', ')','{','}','[',']', ';', '/', '\\\\', ':']\n",
    "                  for punc in unwanted_punc:\n",
    "                      line = line.replace(punc, '')\n",
    "                  words = line.split()\n",
    "                  for word in words:\n",
    "                    text.append(word)\n",
    "                    if word not in frequency:\n",
    "                        frequency[word] = 1\n",
    "                    else:\n",
    "                        frequency[word] = frequency[word] + 1\n",
    "           separate_text_documents[file] = text\n",
    "    return frequency, separate_text_documents\n",
    "\n",
    "\n",
    "# creating a word vector for each document, and for the search document\n",
    "def create_word_vectors(frequency, documents, search_doc):\n",
    "    list_of_word_vectors = {}\n",
    "    \n",
    "    for file in documents:\n",
    "        word_vector = []\n",
    "        for key in frequency:\n",
    "            if key in documents[file]:\n",
    "                word_vector.append(1)\n",
    "            else:\n",
    "                word_vector.append(0)\n",
    "        list_of_word_vectors[file] = word_vector    \n",
    "\n",
    "    #turn the search document into a word vector\n",
    "    cleaned_search_doc = []\n",
    "    search_doc = search_doc.lower()\n",
    "    unwanted_punc = ['.', ',','!','?', '(', ')','{','}','[',']', ';', '/', '\\\\', ':']\n",
    "    for punc in unwanted_punc:\n",
    "        search_doc = search_doc.replace(punc, '')\n",
    "    words = search_doc.split()\n",
    "    for word in words:\n",
    "        cleaned_search_doc.append(word)\n",
    "        \n",
    "    search_doc_vector = []\n",
    "    for key in frequency:\n",
    "        if key in cleaned_search_doc:\n",
    "            search_doc_vector.append(1)\n",
    "        else:\n",
    "            search_doc_vector.append(0)\n",
    "    # return the list of word vectors, and the search document vector\n",
    "    return list_of_word_vectors, search_doc_vector\n",
    "\n",
    "#provide a list of documents that are similar to the given search\n",
    "# document, in descending order of their similarity with the search document\n",
    "def calculate_similarity(word_vectors,search_doc_vector):    \n",
    "    #calculating the dot products & euclidean distance between the search document \n",
    "    #and the list of documents\n",
    "    results_dot = {}\n",
    "    results_eucl = {}\n",
    "    search_doc_vector_ar = np.array(search_doc_vector)\n",
    "    for vector in word_vectors:\n",
    "        word_vector = np.array(word_vectors[vector])        \n",
    "        dotproduct = np.dot(word_vector, search_doc_vector_ar)\n",
    "        results_dot[vector] = dotproduct\n",
    "        euclidean = np.linalg.norm(word_vector - search_doc_vector_ar)\n",
    "        results_eucl[vector] = euclidean\n",
    "    #order the list of documents into a descending order based on the dotproduct\n",
    "    ordered_list_doc = dict(sorted(results_dot.items(), key=lambda item: item[1], reverse=True))\n",
    "    ordered_list_eucl = dict(sorted(results_eucl.items(), key=lambda item: item[1], reverse=False))\n",
    "    return 'Result for dot product: {}'.format(ordered_list_doc.keys()) + '\\nResult for euclidean distance: {}'.format(ordered_list_eucl.keys())\n",
    "\n",
    "\n",
    "#The final function to call\n",
    "def text_similarity(path, search_doc):\n",
    "    frequency, documents = compute_dict(path)\n",
    "    list_of_word_vectors, search_doc_vector = create_word_vectors(frequency, documents, search_doc)\n",
    "    result = calculate_similarity(list_of_word_vectors, search_doc_vector)\n",
    "    return result\n",
    "\n",
    "\n",
    "\n",
    "#Testing\n",
    "path = \"/Users/kitti/Documents/Python Scripts/Spyder Scripts/Test_textfiles/\"\n",
    "search_doc = 'The sky is blue, and the grass is green.'\n",
    "print(text_similarity(path, search_doc))"
   ]
  },
  {
   "cell_type": "code",
   "execution_count": 3,
   "metadata": {},
   "outputs": [
    {
     "data": {
      "text/plain": [
       "'C:\\\\Users\\\\kitti\\\\Documents\\\\Python Scripts\\\\Foundations-of-Data-Science-Final-main'"
      ]
     },
     "execution_count": 3,
     "metadata": {},
     "output_type": "execute_result"
    }
   ],
   "source": []
  },
  {
   "cell_type": "code",
   "execution_count": null,
   "metadata": {},
   "outputs": [],
   "source": []
  }
 ],
 "metadata": {
  "kernelspec": {
   "display_name": "Python 3",
   "language": "python",
   "name": "python3"
  },
  "language_info": {
   "codemirror_mode": {
    "name": "ipython",
    "version": 3
   },
   "file_extension": ".py",
   "mimetype": "text/x-python",
   "name": "python",
   "nbconvert_exporter": "python",
   "pygments_lexer": "ipython3",
   "version": "3.8.5"
  }
 },
 "nbformat": 4,
 "nbformat_minor": 4
}
