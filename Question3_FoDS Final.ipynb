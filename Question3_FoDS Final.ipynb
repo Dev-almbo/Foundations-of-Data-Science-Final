{
 "cells": [
  {
   "cell_type": "markdown",
   "metadata": {},
   "source": [
    "# Foundations of Data Science Final - Question 3"
   ]
  },
  {
   "cell_type": "markdown",
   "metadata": {},
   "source": [
    "### Groupmembers:  Almut Bohnhoff, Anastasiya Strohnova, Kitti Kresznai, Natalie Schober"
   ]
  },
  {
   "cell_type": "code",
   "execution_count": 15,
   "metadata": {},
   "outputs": [
    {
     "name": "stdout",
     "output_type": "stream",
     "text": [
      "{'the': 2, 'sky': 1, 'is': 2, 'blue': 3, 'and': 2, 'grass': 1, 'green': 3, 'my': 1, 'favorite': 1, 'colors': 1, 'are': 1, 'i': 1, 'have': 1, 'a': 1, 'car': 1, 'with': 1, 'some': 1, 'stripes': 1, 'on': 1, 'its': 1, 'side': 1}\n",
      "Result for dot product: dict_keys(['file.txt', 'file2.txt', 'file3.txt'])\n",
      "Result for euclidean distance: dict_keys(['file.txt', 'file2.txt', 'file3.txt'])\n"
     ]
    }
   ],
   "source": [
    "import numpy as np\n",
    "import os\n",
    "\n",
    "\n",
    "# building a word dictionary from the input list of documents\n",
    "def compute_dict(path):\n",
    "    \n",
    "    counterDict={}\n",
    "    separate_text_documents = {}\n",
    "    \n",
    "    all_files = os.listdir(path)\n",
    "    for file in all_files:\n",
    "       # open the file and then call .read() to get the text\n",
    "       text = []\n",
    "       with open(os.path.join(path, file)) as f:\n",
    "          for line in f:\n",
    "       # removing their punctuation\n",
    "              line = line.lower()\n",
    "              unwanted_punc = ['.', ',','!','?', '(', ')','{','}','[',']', ';', '/', '\\\\', ':']\n",
    "              for punc in unwanted_punc:\n",
    "                  line = line.replace(punc, '')\n",
    "              words = line.split()\n",
    "              for word in words:\n",
    "                text.append(word)\n",
    "                if word not in counterDict:\n",
    "                    counterDict[word] = 1\n",
    "                else:\n",
    "                    counterDict[word] = counterDict[word] + 1\n",
    "       separate_text_documents[file] = text\n",
    "    return counterDict, separate_text_documents\n",
    "\n",
    "\n",
    "# creating a word vector for each document\n",
    "def create_word_vectors(counterDict, documents):\n",
    "    list_of_word_vectors = {}\n",
    "    \n",
    "    for file in documents:\n",
    "        word_vector = []\n",
    "        for key in counterDict:\n",
    "            if key in documents[file]:\n",
    "                word_vector.append(1)\n",
    "            else:\n",
    "                word_vector.append(0)\n",
    "        list_of_word_vectors[file] = word_vector    \n",
    "    return list_of_word_vectors\n",
    "\n",
    "#provide a list of documents that are similar to the given search\n",
    "# document, in descending order of their similarity with the search document\n",
    "def examine_similarity(counterDict, word_vectors,search_doc):\n",
    "    #turn the search document into a word vector\n",
    "    cleaned_search_doc = []\n",
    "    search_doc = search_doc.lower()\n",
    "    unwanted_punc = ['.', ',','!','?', '(', ')','{','}','[',']', ';', '/', '\\\\', ':']\n",
    "    for punc in unwanted_punc:\n",
    "        search_doc = search_doc.replace(punc, '')\n",
    "    words = search_doc.split()\n",
    "    for word in words:\n",
    "        cleaned_search_doc.append(word)\n",
    "        \n",
    "    search_doc_vector = []\n",
    "    for key in counterDict:\n",
    "        if key in cleaned_search_doc:\n",
    "            search_doc_vector.append(1)\n",
    "        else:\n",
    "            search_doc_vector.append(0)\n",
    "    \n",
    "    #calculating the dot products & euclidean distance between the search document \n",
    "    #and the list of documents\n",
    "    results_dot = {}\n",
    "    results_eucl = {}\n",
    "    search_doc_vector_array = np.array(search_doc_vector)\n",
    "    for vector in word_vectors:\n",
    "        word_vector_array = np.array(word_vectors[vector])        \n",
    "        dotproduct = np.dot(word_vector_array, search_doc_vector_array)\n",
    "        results_dot[vector] = dotproduct\n",
    "        euclidean = np.linalg.norm(word_vector_array - search_doc_vector_array)\n",
    "        results_eucl[vector] = euclidean\n",
    "    #order the list of documents into a descending order based on the dotproduct\n",
    "    ordered_list_doc = dict(sorted(results_dot.items(), key=lambda item: item[1], reverse=True))\n",
    "    ordered_list_eucl = dict(sorted(results_eucl.items(), key=lambda item: item[1], reverse=False))\n",
    "    return 'Result for dot product: {}'.format(ordered_list_doc.keys()) + '\\nResult for euclidean distance: {}'.format(ordered_list_eucl.keys())\n",
    "\n",
    "\n",
    "#The final function to call\n",
    "def text_similarity(path, search_doc):\n",
    "    counterDict, documents = compute_dict(path)\n",
    "    print(counterDict)\n",
    "    list_of_word_vectors = create_word_vectors(counterDict, documents)\n",
    "    result = examine_similarity(counterDict, list_of_word_vectors, search_doc)\n",
    "    return result\n",
    "\n",
    "\n",
    "\n",
    "#Testing\n",
    "path = \"/Users/kitti/Documents/Python Scripts/Spyder Scripts/Test_textfiles/\"\n",
    "search_doc = 'The sky is blue, and the grass is green.'\n",
    "print(text_similarity(path, search_doc))"
   ]
  },
  {
   "cell_type": "code",
   "execution_count": null,
   "metadata": {},
   "outputs": [],
   "source": []
  }
 ],
 "metadata": {
  "kernelspec": {
   "display_name": "Python 3",
   "language": "python",
   "name": "python3"
  },
  "language_info": {
   "codemirror_mode": {
    "name": "ipython",
    "version": 3
   },
   "file_extension": ".py",
   "mimetype": "text/x-python",
   "name": "python",
   "nbconvert_exporter": "python",
   "pygments_lexer": "ipython3",
   "version": "3.8.5"
  }
 },
 "nbformat": 4,
 "nbformat_minor": 4
}
